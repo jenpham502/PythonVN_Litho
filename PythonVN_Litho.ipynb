{
 "cells": [
  {
   "cell_type": "code",
   "execution_count": 1,
   "metadata": {
    "collapsed": true
   },
   "outputs": [],
   "source": [
    "import pandas as pd"
   ]
  },
  {
   "cell_type": "code",
   "execution_count": 4,
   "metadata": {},
   "outputs": [],
   "source": [
    "df1 = pd.read_excel(\"Lithology.xlsx\", \n",
    "                    skiprows = 7, \n",
    "                    sheetname ='Lithology Logging',\n",
    "                    usecols=[0,15],\n",
    "                    names=['Dep','Str'])\n",
    "df2 = pd.read_excel(\"Structural.xlsx\", \n",
    "                    skiprows = 7, \n",
    "                    sheetname= 'Structural',  \n",
    "                    usecols=[0,3],\n",
    "                    names=['Def','Dis'])"
   ]
  },
  {
   "cell_type": "code",
   "execution_count": 9,
   "metadata": {},
   "outputs": [
    {
     "name": "stdout",
     "output_type": "stream",
     "text": [
      "     Dep Str\n",
      "0  10.20  ME\n",
      "1  10.35  HI\n",
      "2  10.46  VH\n",
      "3  11.00  EH\n",
      "4  11.50  ME\n",
      "   Def    Dis\n",
      "0    1  10.10\n",
      "1    2  10.55\n",
      "2    3  11.20\n",
      "3    4  11.50\n",
      "4    5  12.80\n"
     ]
    }
   ],
   "source": [
    "print(df1.head())\n",
    "print(df2.head())"
   ]
  },
  {
   "cell_type": "code",
   "execution_count": 12,
   "metadata": {
    "collapsed": true
   },
   "outputs": [],
   "source": [
    "def get_str(dis,df1):\n",
    "    for i in range(0,len(df1)):\n",
    "        if i == 0:\n",
    "            if 0 < dis <= df1.Dep[i]:\n",
    "                return df1.Str[i]\n",
    "        elif df1.Dep[i-1] < dis <= df1.Dep[i]:\n",
    "            return df1.Str[i]"
   ]
  },
  {
   "cell_type": "code",
   "execution_count": 17,
   "metadata": {},
   "outputs": [
    {
     "name": "stdout",
     "output_type": "stream",
     "text": [
      "The defect 1 has property ME\n",
      "The defect 2 has property EH\n",
      "The defect 3 has property ME\n",
      "The defect 4 has property ME\n",
      "The defect 5 has property EH\n",
      "The defect 6 has property EH\n"
     ]
    }
   ],
   "source": [
    "for i in range(0,len(df2)):\n",
    "    print(\"The defect\",df2.Def[i], \"has property\",get_str(df2.Dis[i],df1))"
   ]
  },
  {
   "cell_type": "code",
   "execution_count": null,
   "metadata": {
    "collapsed": true
   },
   "outputs": [],
   "source": []
  }
 ],
 "metadata": {
  "kernelspec": {
   "display_name": "Python 3",
   "language": "python",
   "name": "python3"
  },
  "language_info": {
   "codemirror_mode": {
    "name": "ipython",
    "version": 3
   },
   "file_extension": ".py",
   "mimetype": "text/x-python",
   "name": "python",
   "nbconvert_exporter": "python",
   "pygments_lexer": "ipython3",
   "version": "3.6.3"
  }
 },
 "nbformat": 4,
 "nbformat_minor": 2
}
